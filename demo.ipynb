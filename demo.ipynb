{
 "cells": [
  {
   "cell_type": "markdown",
   "id": "a299ca6d",
   "metadata": {},
   "source": [
    "Hi, in this notebook we will show how to run StepFormer on UniVL video features to obtain step segmentation.\n",
    "To convert extract UniVL features from your videos, please follow the instructions in SAIC-Toronto/UniVL-feat_extract github repository (by this [link](https://github.sec.samsung.net/SAIC-Toronto/UniVL-feat_extract))"
   ]
  },
  {
   "cell_type": "code",
   "execution_count": 4,
   "id": "f74a489c",
   "metadata": {},
   "outputs": [
    {
     "name": "stdout",
     "output_type": "stream",
     "text": [
      "The autoreload extension is already loaded. To reload it, use:\n",
      "  %reload_ext autoreload\n"
     ]
    }
   ],
   "source": [
    "import os, sys\n",
    "import numpy as np\n",
    "import torch\n",
    "\n",
    "PROJECT_DIR = '/user/n.dvornik/Git/unsup-step-pred/'\n",
    "sys.path.append(PROJECT_DIR)\n",
    "\n",
    "from models.model_utils import load_last_checkpoint, get_decoder, compute_sim\n",
    "from eval.video_segmentation import segment_video_into_slots\n",
    "from dp.visualization import (color_code, shape_code, color_code_hex,\n",
    "                              color_values, plot_step_to_video_alignment, plot_alignment,\n",
    "                              plot_similarities, plot_gt_seg)\n",
    "from config import CONFIG\n",
    "\n",
    "%matplotlib inline\n",
    "%load_ext autoreload\n",
    "%autoreload 2"
   ]
  },
  {
   "cell_type": "code",
   "execution_count": 14,
   "id": "eed48a90",
   "metadata": {},
   "outputs": [
    {
     "name": "stdout",
     "output_type": "stream",
     "text": [
      "Loading checkpoint at /user/n.dvornik/Git/unsup-step-pred/weights/long/weights-epoch=78.ckpt\n"
     ]
    }
   ],
   "source": [
    "dev = 'cpu'  # running everything on cpu\n",
    "\n",
    "# setup config\n",
    "transformer_name = \"long\"\n",
    "output_folder = os.path.join(PROJECT_DIR, \"outputs\", transformer_name)\n",
    "CONFIG.load(os.path.join(output_folder, \"config.yml\"))\n",
    "\n",
    "# setup model\n",
    "model = get_decoder()\n",
    "load_last_checkpoint(transformer_name, model, 'cpu', remove_name_preffix=\"model.\")\n",
    "model.eval()\n",
    "\n",
    "# setup video\n",
    "univl_features_folder = \"./samples\"\n",
    "videos = [np.load(f\"{univl_features_folder}/{name}\") for name in os.listdir(univl_features_folder)]"
   ]
  },
  {
   "cell_type": "code",
   "execution_count": 32,
   "id": "9d3caf65",
   "metadata": {},
   "outputs": [],
   "source": [
    "# let's take the first video for example. This video corresponds to this youtube link https://www.youtube.com/watch?v=jN6kowC-w0o\n",
    "video_features = torch.tensor(videos[0])\n",
    "\n",
    "# this parameter controls how much of steps and video frames we drop (higher -> more drop)\n",
    "CONFIG.EVAL.FIXED_DROP_SIM = 0.44\n",
    "\n",
    "# extract step slots with StepFormer\n",
    "with torch.no_grad():\n",
    "    steps = model(video_features[None, ...].to(dev)).to(\"cpu\")[0]\n",
    "    \n",
    "step_segmentation = segment_video_into_slots(video_features, steps)"
   ]
  },
  {
   "cell_type": "code",
   "execution_count": 33,
   "id": "332c8115",
   "metadata": {},
   "outputs": [
    {
     "data": {
      "text/plain": [
       "<module 'matplotlib.pyplot' from '/user/n.dvornik/miniconda3/envs/py39/lib/python3.9/site-packages/matplotlib/pyplot.py'>"
      ]
     },
     "execution_count": 33,
     "metadata": {},
     "output_type": "execute_result"
    },
    {
     "data": {
      "image/png": "[encoded data removed]",
      "text/plain": [
       "<Figure size 1296x72 with 1 Axes>"
      ]
     },
     "metadata": {
      "needs_background": "light"
     },
     "output_type": "display_data"
    }
   ],
   "source": [
    "# let's visualize the obtained segmentation\n",
    "\n",
    "new_ids = np.arange(steps.shape[0])\n",
    "new_step_colors = {k + 1: color_code[k] for k in new_ids}\n",
    "new_step_shapes = {k + 1: shape_code[k] for k in new_ids}\n",
    "plot_alignment(new_ids + 1, step_segmentation, new_step_colors, new_step_shapes, size=(18, 1), to_np=False)"
   ]
  },
  {
   "cell_type": "markdown",
   "id": "a9c1cbbd",
   "metadata": {},
   "source": [
    "The above figure represents the timeline (the ticks on x axis correspond to seconds in the videos). \n",
    "Every colorerd segment corresponds to an instruction step detected with StepFormer"
   ]
  }
 ],
 "metadata": {
  "kernelspec": {
   "display_name": "Python 3 (ipykernel)",
   "language": "python",
   "name": "python3"
  },
  "language_info": {
   "codemirror_mode": {
    "name": "ipython",
    "version": 3
   },
   "file_extension": ".py",
   "mimetype": "text/x-python",
   "name": "python",
   "nbconvert_exporter": "python",
   "pygments_lexer": "ipython3",
   "version": "3.9.7"
  }
 },
 "nbformat": 4,
 "nbformat_minor": 5
}
